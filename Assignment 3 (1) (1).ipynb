{
 "cells": [
  {
   "cell_type": "markdown",
   "metadata": {},
   "source": [
    "# Assignment 3"
   ]
  },
  {
   "cell_type": "markdown",
   "metadata": {},
   "source": [
    "### Write a function to count the number 4 in a given list."
   ]
  },
  {
   "cell_type": "code",
   "execution_count": 95,
   "metadata": {},
   "outputs": [
    {
     "name": "stdout",
     "output_type": "stream",
     "text": [
      "plz enter list of numbers sperated by ,4,4,2,3,4,4,4,5,54,55,6,4\n",
      " Number 4 has been repeated 6 times in this list \n"
     ]
    }
   ],
   "source": [
    "#get list of numbers from user each element in this list in the form of string\n",
    "\n",
    "l=input('plz enter list of numbers sperated by ,').split(',')\n",
    " \n",
    "#change the type of each list element into int\n",
    "\n",
    "for i in range (0,len(l)):\n",
    "    \n",
    "    l[i]=int(l[i])\n",
    "     \n",
    "    \n",
    "#function that count number 4 in this list\n",
    "\n",
    "def count(l):\n",
    "    \n",
    "    num=0\n",
    "    \n",
    "    for i in l:\n",
    "        \n",
    "        if i==4:\n",
    "            \n",
    "            num+=1 #increment the value in num by 1\n",
    "       \n",
    "    return num\n",
    "\n",
    "#calling function count\n",
    "\n",
    "z=count(l)\n",
    "\n",
    "print(' Number 4 has been repeated {} times in this list '.format(z))"
   ]
  },
  {
   "cell_type": "code",
   "execution_count": 96,
   "metadata": {},
   "outputs": [
    {
     "name": "stdout",
     "output_type": "stream",
     "text": [
      "plz enter the number of element in your list4\n",
      "plz enter num1\n",
      "plz enter num2\n",
      "plz enter num3\n",
      "plz enter num5\n",
      " Number 4 has been repeated 0 times in this list \n"
     ]
    }
   ],
   "source": [
    "#There is also another way to take list from user ,each element in this list is int\n",
    "\n",
    "#1- take the number of element in list\n",
    "\n",
    "x=int (input('plz enter the number of element in your list'))\n",
    "\n",
    "#2-creat empty list\n",
    "\n",
    "p=[]\n",
    "\n",
    "#3-fill this empty list with elements taken by  user\n",
    "\n",
    "for i in range(0,x): \n",
    "    \n",
    "    z=int(input('plz enter num'))\n",
    "    \n",
    "    p.append(z)\n",
    "    \n",
    "#calling function count\n",
    "\n",
    "e=count(p)\n",
    "\n",
    "print(' Number 4 has been repeated {} times in this list '.format(e))"
   ]
  },
  {
   "cell_type": "code",
   "execution_count": 97,
   "metadata": {},
   "outputs": [
    {
     "name": "stdout",
     "output_type": "stream",
     "text": [
      "plz enter list of numbers sperated by space2 3 4 5 6\n",
      " Number 4 has been repeated 1 times in this list \n"
     ]
    }
   ],
   "source": [
    "# It is not necessary to make the type of each element int \n",
    "\n",
    "#get list of numbers from user each element in this list in the form of string\n",
    "\n",
    "l=input('plz enter list of numbers sperated by space').split()\n",
    "\n",
    "#function that count number 4 in this list\n",
    "\n",
    "def count0(l):\n",
    "    \n",
    "    num=0\n",
    "    \n",
    "    for i in l:\n",
    "        \n",
    "        if i=='4':\n",
    "            \n",
    "            num+=1 #increment the value in num by 1\n",
    "       \n",
    "    return num\n",
    "\n",
    "#calling function count\n",
    "\n",
    "z=count0(l)\n",
    "\n",
    "print(' Number 4 has been repeated {} times in this list '.format(z))"
   ]
  },
  {
   "cell_type": "markdown",
   "metadata": {},
   "source": [
    "### write a  function to check whether a number is divisible by another number."
   ]
  },
  {
   "cell_type": "code",
   "execution_count": 100,
   "metadata": {},
   "outputs": [
    {
     "name": "stdout",
     "output_type": "stream",
     "text": [
      "plz enter num6\n",
      "plz enter num3\n",
      "6 is divisible by 3\n"
     ]
    }
   ],
   "source": [
    "#take to num from user\n",
    "\n",
    "frist_num=int(input('plz enter num'))\n",
    "\n",
    "second_num=int(input('plz enter num'))\n",
    "\n",
    "#function that heck whether a number is divisible by another number\n",
    "\n",
    "def div (f,l):\n",
    "    \n",
    "    if f%l==0:\n",
    "        \n",
    "        print('{} is divisible by {}'.format(f,l))\n",
    "     \n",
    "    else:\n",
    "        \n",
    "         print('{} is not divisible by {}'.format(f,l))\n",
    "        \n",
    "#calling function div\n",
    "div (frist_num,second_num)\n"
   ]
  },
  {
   "cell_type": "markdown",
   "metadata": {},
   "source": [
    "### write a function to find the maximum and minimum numbers from a sequence of numbers."
   ]
  },
  {
   "cell_type": "code",
   "execution_count": 101,
   "metadata": {},
   "outputs": [
    {
     "name": "stdout",
     "output_type": "stream",
     "text": [
      "plz enter list of numbers sperated by space1 2 3 4 5 6 7 8 9 1000000000\n",
      " the maximum number is 1000000000 and minmum number is 1\n"
     ]
    }
   ],
   "source": [
    "def max_min():\n",
    "    \n",
    "    #get list of numbers from user each element in this list in the form of string\n",
    "\n",
    "    l=input('plz enter list of numbers sperated by space').split()\n",
    " \n",
    "    #change the type of each list element into int\n",
    "\n",
    "    for i in range (0,len(l)): \n",
    "        \n",
    "         l[i]=int(l[i])\n",
    "            \n",
    "    #find the maximum and minmum number from a sequence of numbers\n",
    "    \n",
    "    max0=l[0] #assume that max num is the first num in list\n",
    "    \n",
    "    min0=l[-1]#assume that min num is the last num in list\n",
    "    \n",
    "    for i in l:\n",
    "        \n",
    "        if max0 <i:\n",
    "            \n",
    "            max0=i\n",
    "            \n",
    "        if min0>i:\n",
    "            \n",
    "            min0=i\n",
    "        \n",
    "    return(max0,min0)\n",
    "\n",
    "#calling function max_min\n",
    "\n",
    "maxx,minn=max_min()\n",
    "\n",
    "print(' the maximum number is {} and minmum number is {}'.format(maxx,minn))\n",
    "    \n",
    "    "
   ]
  },
  {
   "cell_type": "markdown",
   "metadata": {},
   "source": [
    "### Write a Python function that takes two lists and returns True if they have at least one common member."
   ]
  },
  {
   "cell_type": "code",
   "execution_count": 104,
   "metadata": {},
   "outputs": [
    {
     "name": "stdout",
     "output_type": "stream",
     "text": [
      "plz enter firist list 1 2 3 4 5 \n",
      "plz enter second list 5 7 10\n"
     ]
    },
    {
     "data": {
      "text/plain": [
       "'true'"
      ]
     },
     "execution_count": 104,
     "metadata": {},
     "output_type": "execute_result"
    }
   ],
   "source": [
    "#get 2 lists of numbers from user the type each element in this 2 lists is string\n",
    "\n",
    "l1=input('plz enter firist list ').split()\n",
    "\n",
    "l2=input('plz enter second list ').split()\n",
    "\n",
    "# function that takes two lists and returns True if they have at least one common member\n",
    "\n",
    "def common (l1,l2):\n",
    "    \n",
    "    for i in l2:\n",
    "        \n",
    "        if i in l1:\n",
    "            \n",
    "            return('true')\n",
    "        else:\n",
    "            return('ther is no common num')\n",
    "        \n",
    "#calling function common\n",
    "\n",
    "z=common (l1,l2)\n",
    "\n",
    "z"
   ]
  },
  {
   "cell_type": "markdown",
   "metadata": {},
   "source": [
    "### Write a Python function to calculate the factorial of a number (a non-negative integer). The function accepts the number from the user"
   ]
  },
  {
   "cell_type": "code",
   "execution_count": 109,
   "metadata": {},
   "outputs": [
    {
     "name": "stdout",
     "output_type": "stream",
     "text": [
      "plz enter +ve num to get its factorial4\n",
      "the factorial of 4 is 24\n"
     ]
    }
   ],
   "source": [
    "# function that calculate the factorial of a number\n",
    "def check():\n",
    "    \n",
    "    x=int(input('plz enter +ve num to get its factorial'))\n",
    "    \n",
    "    # make user inter number until entering +ve num\n",
    "    \n",
    "    while x<=0:\n",
    "        \n",
    "         x=int(input('plz enter +ve num to get its factorial'))\n",
    "            \n",
    "     #calculate factorial\n",
    "    \n",
    "    fac=1 \n",
    "   \n",
    "    for i in range(1,x+1):\n",
    "        fac=fac*i\n",
    "    \n",
    "    return('the factorial of {} is {}'.format(x,fac))\n",
    "\n",
    "#calling function check()\n",
    "\n",
    "z=check()\n",
    "\n",
    "print(z)\n",
    "\n",
    "\n",
    "\n"
   ]
  },
  {
   "cell_type": "markdown",
   "metadata": {},
   "source": [
    "### Write a Python function to check whether a number is in a given range.\n",
    "\n",
    "### The range is from 3 to 11\n"
   ]
  },
  {
   "cell_type": "code",
   "execution_count": 110,
   "metadata": {},
   "outputs": [
    {
     "name": "stdout",
     "output_type": "stream",
     "text": [
      "plz enter lower limit of range10\n",
      "plz enter upper limit of range1\n",
      "lower limit of range must be small than upper limit \n",
      "plz enter lower limit of range100\n",
      "plz enter upper limit of range10000\n",
      "plz enter num  to check whether it is in a range999\n",
      "999in a given range [100,10000]\n"
     ]
    }
   ],
   "source": [
    "#function that check whether a number is in a given range\n",
    "\n",
    "def rang ():\n",
    "    lower=int(input('plz enter lower limit of range'))\n",
    "    \n",
    "    upper=int(input('plz enter upper limit of range'))\n",
    "    \n",
    "    #make sure lower limit <= upper limit\n",
    "    \n",
    "    while lower>upper:\n",
    "        \n",
    "        print('lower limit of range must be small than upper limit ')\n",
    "        \n",
    "        lower=int(input('plz enter lower limit of range'))\n",
    "        \n",
    "        upper=int(input('plz enter upper limit of range'))\n",
    "    \n",
    "    x=int(input('plz enter num  to check whether it is in a range'))\n",
    "    \n",
    "    #check if x in range or not\n",
    "    \n",
    "    if x <=upper and x>=lower:\n",
    "        \n",
    "        print ('{}in a given range [{},{}]'.format(x,lower,upper))\n",
    "        \n",
    "    else:\n",
    "        \n",
    "        print ('{}is not in a given range [{},{}]'.format(x,lower,upper))\n",
    "        \n",
    "#calling function range    \n",
    "\n",
    "rang()\n"
   ]
  },
  {
   "cell_type": "markdown",
   "metadata": {},
   "source": [
    "Write a program to create the multiplication table (from 1 to 10) of a number.¶"
   ]
  },
  {
   "cell_type": "code",
   "execution_count": 111,
   "metadata": {},
   "outputs": [
    {
     "name": "stdout",
     "output_type": "stream",
     "text": [
      "plz enter num to create the multiplication table (from 1 to 10) of a number5\n",
      "5 * 1 = 5\n",
      "5 * 2 = 10\n",
      "5 * 3 = 15\n",
      "5 * 4 = 20\n",
      "5 * 5 = 25\n",
      "5 * 6 = 30\n",
      "5 * 7 = 35\n",
      "5 * 8 = 40\n",
      "5 * 9 = 45\n",
      "5 * 10 = 50\n"
     ]
    }
   ],
   "source": [
    "#function that create the multiplication table (from 1 to 10) of a number\n",
    "\n",
    "def mul ():\n",
    "    x=int(input('plz enter num to create the multiplication table (from 1 to 10) of a number'))\n",
    "    \n",
    "    for i in range(1,10+1) :\n",
    "        print('{} * {} = {}'.format(x,i,x*i))\n",
    "        \n",
    "#calling function mul\n",
    "\n",
    "mul()\n",
    "    \n"
   ]
  },
  {
   "cell_type": "markdown",
   "metadata": {},
   "source": [
    "#### LESSER OF TWO EVENS: Write a function that returns the lesser of two given numbers *if* both numbers are even, but returns the greater if one or both numbers are odd\n",
    "    lesser_of_two_evens(2,4) --> 2\n",
    "    lesser_of_two_evens(2,5) --> 5"
   ]
  },
  {
   "cell_type": "code",
   "execution_count": 93,
   "metadata": {},
   "outputs": [
    {
     "name": "stdout",
     "output_type": "stream",
     "text": [
      "plz enter two events spereted by2,5\n"
     ]
    },
    {
     "data": {
      "text/plain": [
       "5"
      ]
     },
     "execution_count": 93,
     "metadata": {},
     "output_type": "execute_result"
    }
   ],
   "source": [
    "x,y=input('plz enter two events spereted by').split(',')\n",
    "x=int(x)\n",
    "y=int(y)\n",
    "\n",
    "#function  \n",
    "\n",
    "def return_num(x,y):\n",
    "    # check if two num are even \n",
    "    if x%2==0 and y%2==0:\n",
    "        \n",
    "        if x<y:\n",
    "            return (x) \n",
    "        \n",
    "        else: \n",
    "            return(y)\n",
    "\n",
    "    else :\n",
    "        \n",
    "        if x<y:\n",
    "            return (y)\n",
    "        \n",
    "        else:\n",
    "            return(x)\n",
    "        \n",
    "#calling function \n",
    "\n",
    "z= return_num(x,y)\n",
    "\n",
    "z\n",
    "\n",
    "        \n",
    "             \n",
    "        "
   ]
  },
  {
   "cell_type": "code",
   "execution_count": null,
   "metadata": {},
   "outputs": [],
   "source": []
  }
 ],
 "metadata": {
  "kernelspec": {
   "display_name": "Python 3 (ipykernel)",
   "language": "python",
   "name": "python3"
  },
  "language_info": {
   "codemirror_mode": {
    "name": "ipython",
    "version": 3
   },
   "file_extension": ".py",
   "mimetype": "text/x-python",
   "name": "python",
   "nbconvert_exporter": "python",
   "pygments_lexer": "ipython3",
   "version": "3.9.12"
  }
 },
 "nbformat": 4,
 "nbformat_minor": 2
}
