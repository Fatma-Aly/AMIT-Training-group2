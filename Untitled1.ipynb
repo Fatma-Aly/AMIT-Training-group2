{
 "cells": [
  {
   "cell_type": "code",
   "execution_count": 26,
   "id": "86e74982",
   "metadata": {},
   "outputs": [
    {
     "data": {
      "text/plain": [
       "[3, 3, 2]"
      ]
     },
     "execution_count": 26,
     "metadata": {},
     "output_type": "execute_result"
    }
   ],
   "source": [
    "l1=[3,2,1]\n",
    "l2=[0,1,1]\n",
    "sum1=[]\n",
    "\n",
    "for i in range (0,len(l1)):\n",
    "        x=l1[i]+l2[i]\n",
    "        sum1.append(x)\n",
    "sum1\n",
    "\n",
    "   \n",
    "    \n",
    "        "
   ]
  },
  {
   "cell_type": "code",
   "execution_count": 48,
   "id": "0c562a50",
   "metadata": {},
   "outputs": [
    {
     "name": "stdout",
     "output_type": "stream",
     "text": [
      "<generator object add.<locals>.<genexpr> at 0x0000020169C69700>\n"
     ]
    }
   ],
   "source": [
    "def add(l1,l2):\n",
    "    assert len(l1)==len(l2)\n",
    "    return(i+j for i,j in zip(l1,l2) )\n",
    "\n",
    "\n",
    "add([1,2],[5,3]) \n"
   ]
  },
  {
   "cell_type": "code",
   "execution_count": 36,
   "id": "27d5c127",
   "metadata": {},
   "outputs": [
    {
     "data": {
      "text/plain": [
       "[8, 8, 8]"
      ]
     },
     "execution_count": 36,
     "metadata": {},
     "output_type": "execute_result"
    }
   ],
   "source": [
    "def scaler (num ,list0):\n",
    "    for i in range(0,len(list0)):\n",
    "        list0[i]=list0[i]*num\n",
    "    return(list0)\n",
    "scaler(8,[1,1,1])"
   ]
  },
  {
   "cell_type": "code",
   "execution_count": 46,
   "id": "867b568b",
   "metadata": {},
   "outputs": [
    {
     "data": {
      "text/plain": [
       "4"
      ]
     },
     "execution_count": 46,
     "metadata": {},
     "output_type": "execute_result"
    }
   ],
   "source": [
    "def mul(list1,list0):\n",
    "    sum9=0\n",
    "    assert len(list1)==len(list0)\n",
    "    for i in range(0,len(list1)):\n",
    "        sum9=sum9+(list0[i]*list1[i])\n",
    "        \n",
    "    return(sum9)\n",
    "mul([2,1,1],[1,1,1])"
   ]
  },
  {
   "cell_type": "code",
   "execution_count": 57,
   "id": "a9dd0d13",
   "metadata": {},
   "outputs": [
    {
     "name": "stdout",
     "output_type": "stream",
     "text": [
      "2 , 3\n",
      "2\n"
     ]
    }
   ],
   "source": [
    "a=[[1,2,3],[1,2,3]]\n",
    "print(len(a),',',len(a[0]))\n",
    "print(a[0][1])"
   ]
  },
  {
   "cell_type": "code",
   "execution_count": 62,
   "id": "3d7f36c4",
   "metadata": {},
   "outputs": [
    {
     "name": "stdout",
     "output_type": "stream",
     "text": [
      "[[2, 4, 6], [2, 4, 6]]\n"
     ]
    }
   ],
   "source": [
    "a=[[1,2,3],[1,2,3]]\n",
    "b=[[1,2,3],[1,2,3]]\n",
    "assert len(a)==len(b)\n",
    "assert len(a[0])==len(b[0])\n",
    "for i in range (0,len(a)):\n",
    "    for j in  range (0,len(a[0])):\n",
    "        a[i][j]= a[i][j]+ b[i][j]\n",
    "print(a)"
   ]
  },
  {
   "cell_type": "code",
   "execution_count": null,
   "id": "d5adb50b",
   "metadata": {},
   "outputs": [],
   "source": []
  }
 ],
 "metadata": {
  "kernelspec": {
   "display_name": "Python 3 (ipykernel)",
   "language": "python",
   "name": "python3"
  },
  "language_info": {
   "codemirror_mode": {
    "name": "ipython",
    "version": 3
   },
   "file_extension": ".py",
   "mimetype": "text/x-python",
   "name": "python",
   "nbconvert_exporter": "python",
   "pygments_lexer": "ipython3",
   "version": "3.11.5"
  }
 },
 "nbformat": 4,
 "nbformat_minor": 5
}
