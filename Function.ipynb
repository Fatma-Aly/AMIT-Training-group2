{
 "cells": [
  {
   "cell_type": "markdown",
   "id": "30bf1ad8",
   "metadata": {},
   "source": [
    "# Function "
   ]
  },
  {
   "cell_type": "markdown",
   "id": "dbfbad17",
   "metadata": {},
   "source": [
    "1. Write a function that takes a list of strings as an argument \n",
    "and returns the length of the longest string in the list.\n"
   ]
  },
  {
   "cell_type": "code",
   "execution_count": 1,
   "id": "cf1e4cde",
   "metadata": {},
   "outputs": [
    {
     "data": {
      "text/plain": [
       "28"
      ]
     },
     "execution_count": 1,
     "metadata": {},
     "output_type": "execute_result"
    }
   ],
   "source": [
    "\n",
    "def long(l):\n",
    "    length=0\n",
    "    for i in l:\n",
    "        if length < len(i):\n",
    "            length=len(i)\n",
    "    return(length)\n",
    "        \n",
    "long([\"fa\",'aaaa','eeeeeeeeeeeeeeeeeeeeeeeeeeee'])    \n",
    "    \n",
    "    \n",
    "    "
   ]
  },
  {
   "cell_type": "markdown",
   "id": "9c453e38",
   "metadata": {},
   "source": [
    "2. Write a function that takes a list of numbers as an argument and\n",
    "returns a new list containing only the even numbers from the original list."
   ]
  },
  {
   "cell_type": "code",
   "execution_count": 2,
   "id": "bca231a1",
   "metadata": {},
   "outputs": [
    {
     "data": {
      "text/plain": [
       "[2, 4, 6, 8]"
      ]
     },
     "execution_count": 2,
     "metadata": {},
     "output_type": "execute_result"
    }
   ],
   "source": [
    "def even(l):\n",
    "    e=[]\n",
    "    for i in l:\n",
    "        if i%2==0:\n",
    "            e.append(i)\n",
    "    return(e)\n",
    "even([1,2,3,4,5,6,7,8])\n",
    "    "
   ]
  },
  {
   "cell_type": "markdown",
   "id": "69aef85c",
   "metadata": {},
   "source": [
    "3. Write a function that takes a string as an argument and \n",
    "returns a new string with all the vowels removed"
   ]
  },
  {
   "cell_type": "code",
   "execution_count": 3,
   "id": "60faf0b8",
   "metadata": {},
   "outputs": [
    {
     "data": {
      "text/plain": [
       "'hllw wrld'"
      ]
     },
     "execution_count": 3,
     "metadata": {},
     "output_type": "execute_result"
    }
   ],
   "source": [
    "def  vowels_removed(string):\n",
    "    vowles=\"AEIOUaeiou\"\n",
    "    result=\"\"\n",
    "    for char in string:\n",
    "        if char not in vowles:\n",
    "            result+=char\n",
    "    return result\n",
    "\n",
    "    \n",
    "\n",
    "string='hellow world'\n",
    "vowels_removed(string)\n",
    "    "
   ]
  },
  {
   "cell_type": "markdown",
   "id": "a87f8108",
   "metadata": {},
   "source": [
    "4. Write a function that takes a list of numbers as an argument and\n",
    "returns the average of those numbers"
   ]
  },
  {
   "cell_type": "code",
   "execution_count": 4,
   "id": "58a99952",
   "metadata": {},
   "outputs": [
    {
     "data": {
      "text/plain": [
       "2.5"
      ]
     },
     "execution_count": 4,
     "metadata": {},
     "output_type": "execute_result"
    }
   ],
   "source": [
    "def avg(list0) :\n",
    "    avrage=0\n",
    "    for i in list0:\n",
    "        avrage=avrage+i\n",
    "    avrage=avrage/len(list0)\n",
    "    return(avrage)\n",
    "avg([1,2,3,4])\n",
    "    "
   ]
  },
  {
   "cell_type": "code",
   "execution_count": null,
   "id": "940b5484",
   "metadata": {},
   "outputs": [],
   "source": []
  }
 ],
 "metadata": {
  "kernelspec": {
   "display_name": "Python 3 (ipykernel)",
   "language": "python",
   "name": "python3"
  },
  "language_info": {
   "codemirror_mode": {
    "name": "ipython",
    "version": 3
   },
   "file_extension": ".py",
   "mimetype": "text/x-python",
   "name": "python",
   "nbconvert_exporter": "python",
   "pygments_lexer": "ipython3",
   "version": "3.11.5"
  }
 },
 "nbformat": 4,
 "nbformat_minor": 5
}
